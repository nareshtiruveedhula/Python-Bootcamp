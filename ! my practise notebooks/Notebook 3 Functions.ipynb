{
 "cells": [
  {
   "cell_type": "code",
   "execution_count": 2,
   "id": "3557776b",
   "metadata": {},
   "outputs": [],
   "source": [
    "def say_hello():\n",
    "    print(\"hello\")"
   ]
  },
  {
   "cell_type": "code",
   "execution_count": 7,
   "id": "d6ca5dc3",
   "metadata": {},
   "outputs": [
    {
     "name": "stdout",
     "output_type": "stream",
     "text": [
      "hello\n"
     ]
    }
   ],
   "source": [
    "say_hello()"
   ]
  },
  {
   "cell_type": "code",
   "execution_count": 8,
   "id": "2faae8cc",
   "metadata": {},
   "outputs": [],
   "source": [
    "def say_hello(name=\"default\"):\n",
    "    print(f\"hello {name}\")"
   ]
  },
  {
   "cell_type": "code",
   "execution_count": 9,
   "id": "1b1e0af8",
   "metadata": {},
   "outputs": [
    {
     "name": "stdout",
     "output_type": "stream",
     "text": [
      "hello default\n"
     ]
    }
   ],
   "source": [
    "say_hello()"
   ]
  },
  {
   "cell_type": "code",
   "execution_count": 10,
   "id": "b37a34b5",
   "metadata": {},
   "outputs": [
    {
     "name": "stdout",
     "output_type": "stream",
     "text": [
      "hello naresh\n"
     ]
    }
   ],
   "source": [
    "say_hello(\"naresh\")"
   ]
  },
  {
   "cell_type": "code",
   "execution_count": 11,
   "id": "8da421bd",
   "metadata": {},
   "outputs": [],
   "source": [
    "def add_num(num1,num2):\n",
    "    return num1+num2"
   ]
  },
  {
   "cell_type": "code",
   "execution_count": 12,
   "id": "8816ff0e",
   "metadata": {},
   "outputs": [
    {
     "data": {
      "text/plain": [
       "30"
      ]
     },
     "execution_count": 12,
     "metadata": {},
     "output_type": "execute_result"
    }
   ],
   "source": [
    "add_num(10,20)"
   ]
  },
  {
   "cell_type": "code",
   "execution_count": 14,
   "id": "7167ba0d",
   "metadata": {},
   "outputs": [
    {
     "data": {
      "text/plain": [
       "31"
      ]
     },
     "execution_count": 14,
     "metadata": {},
     "output_type": "execute_result"
    }
   ],
   "source": [
    "result = add_num(10,21)\n",
    "result\n"
   ]
  },
  {
   "cell_type": "code",
   "execution_count": 21,
   "id": "4ca732d7",
   "metadata": {},
   "outputs": [],
   "source": [
    "def print_result(num1,num2):\n",
    "    print(num1+num2)"
   ]
  },
  {
   "cell_type": "code",
   "execution_count": 22,
   "id": "d0dffbe2",
   "metadata": {},
   "outputs": [],
   "source": [
    "def return_result(num1,num2):\n",
    "    return num1+num2"
   ]
  },
  {
   "cell_type": "code",
   "execution_count": 23,
   "id": "47384af2",
   "metadata": {},
   "outputs": [
    {
     "name": "stdout",
     "output_type": "stream",
     "text": [
      "32\n"
     ]
    }
   ],
   "source": [
    "p_result = print_result(10,22)"
   ]
  },
  {
   "cell_type": "code",
   "execution_count": 25,
   "id": "fee8ee8a",
   "metadata": {},
   "outputs": [
    {
     "data": {
      "text/plain": [
       "NoneType"
      ]
     },
     "execution_count": 25,
     "metadata": {},
     "output_type": "execute_result"
    }
   ],
   "source": [
    "type(p_result)"
   ]
  },
  {
   "cell_type": "code",
   "execution_count": 28,
   "id": "7db857c7",
   "metadata": {},
   "outputs": [],
   "source": [
    "r_result = return_result(11,25)"
   ]
  },
  {
   "cell_type": "code",
   "execution_count": 29,
   "id": "7f976fb5",
   "metadata": {},
   "outputs": [
    {
     "data": {
      "text/plain": [
       "36"
      ]
     },
     "execution_count": 29,
     "metadata": {},
     "output_type": "execute_result"
    }
   ],
   "source": [
    "r_result"
   ]
  },
  {
   "cell_type": "code",
   "execution_count": 30,
   "id": "e1903405",
   "metadata": {},
   "outputs": [
    {
     "data": {
      "text/plain": [
       "int"
      ]
     },
     "execution_count": 30,
     "metadata": {},
     "output_type": "execute_result"
    }
   ],
   "source": [
    "type(r_result)"
   ]
  },
  {
   "cell_type": "code",
   "execution_count": 32,
   "id": "4fefc6e7",
   "metadata": {},
   "outputs": [],
   "source": [
    "# check if a number is even with fn\n",
    "def is_even(number):\n",
    "    if number % 2 == 0:\n",
    "        print(f\"{number} is even\")\n",
    "        return True\n",
    "    else:\n",
    "        print(f\"{number} is odd\")\n",
    "        return False"
   ]
  },
  {
   "cell_type": "code",
   "execution_count": 33,
   "id": "66421de0",
   "metadata": {},
   "outputs": [
    {
     "name": "stdout",
     "output_type": "stream",
     "text": [
      "56 is even\n"
     ]
    },
    {
     "data": {
      "text/plain": [
       "True"
      ]
     },
     "execution_count": 33,
     "metadata": {},
     "output_type": "execute_result"
    }
   ],
   "source": [
    "is_even(56)"
   ]
  },
  {
   "cell_type": "code",
   "execution_count": 34,
   "id": "ff9e0e8c",
   "metadata": {},
   "outputs": [],
   "source": [
    "def is_even(number):\n",
    "    return number % 2 ==0"
   ]
  },
  {
   "cell_type": "code",
   "execution_count": 35,
   "id": "34a6a32c",
   "metadata": {},
   "outputs": [
    {
     "data": {
      "text/plain": [
       "True"
      ]
     },
     "execution_count": 35,
     "metadata": {},
     "output_type": "execute_result"
    }
   ],
   "source": [
    "is_even(56)"
   ]
  },
  {
   "cell_type": "code",
   "execution_count": 36,
   "id": "9fd4d003",
   "metadata": {},
   "outputs": [],
   "source": [
    "# reurn true if any number in list is even"
   ]
  },
  {
   "cell_type": "code",
   "execution_count": 37,
   "id": "4b97c49d",
   "metadata": {},
   "outputs": [],
   "source": [
    "def check_even_list(lst):\n",
    "    \n",
    "    for i in lst:\n",
    "        if i % 2 == 0:\n",
    "            return True\n",
    "        else:\n",
    "            pass"
   ]
  },
  {
   "cell_type": "code",
   "execution_count": 43,
   "id": "e0d00eae",
   "metadata": {},
   "outputs": [
    {
     "data": {
      "text/plain": [
       "False"
      ]
     },
     "execution_count": 43,
     "metadata": {},
     "output_type": "execute_result"
    }
   ],
   "source": [
    "check_even_list([1,3,5,79,9])"
   ]
  },
  {
   "cell_type": "code",
   "execution_count": 41,
   "id": "672b0ad8",
   "metadata": {},
   "outputs": [],
   "source": [
    "def check_even_list(lst):\n",
    "    \n",
    "    for i in lst:\n",
    "        if i % 2 == 0:\n",
    "            return True\n",
    "        else:\n",
    "            pass\n",
    "    return False"
   ]
  },
  {
   "cell_type": "code",
   "execution_count": 61,
   "id": "255e2868",
   "metadata": {},
   "outputs": [],
   "source": [
    "lst = [3,5,3,6,9,8,7,4,5,2,1,0]"
   ]
  },
  {
   "cell_type": "code",
   "execution_count": 62,
   "id": "61e6c1be",
   "metadata": {},
   "outputs": [],
   "source": [
    "#return all even numbers in list\n",
    "def return_even_num(lst):\n",
    "    \n",
    "    even_lst = []\n",
    "    for i in lst:\n",
    "        if i % 2 == 0:\n",
    "            even_lst.append(i)\n",
    "    return even_lst"
   ]
  },
  {
   "cell_type": "code",
   "execution_count": 71,
   "id": "ec294827",
   "metadata": {},
   "outputs": [
    {
     "data": {
      "text/plain": [
       "[6, 8, 4, 2, 0]"
      ]
     },
     "execution_count": 71,
     "metadata": {},
     "output_type": "execute_result"
    }
   ],
   "source": [
    "return_even_num(lst)\n"
   ]
  },
  {
   "cell_type": "markdown",
   "id": "a9142509",
   "metadata": {},
   "source": [
    "## CHECK prime numbers between from 0 to 100"
   ]
  },
  {
   "cell_type": "code",
   "execution_count": 73,
   "id": "0705fcaa",
   "metadata": {},
   "outputs": [],
   "source": [
    "def count_primes(num):\n",
    "    x = 3\n",
    "    prime = [2]\n",
    "    while x<=num:\n",
    "        for i in range(3,x):\n",
    "            if x%i == 0:\n",
    "                x+=1\n",
    "                break\n",
    "        else:            \n",
    "            prime.append(x)\n",
    "            x+=1\n",
    "    print(prime)        \n",
    "    return len(prime)\n"
   ]
  },
  {
   "cell_type": "markdown",
   "id": "3908d270",
   "metadata": {},
   "source": [
    "# Three Cup Monte\n",
    "game about 3 cups and one ball under a cup and after shuffling cups, guess which cup has the ball under it"
   ]
  },
  {
   "cell_type": "code",
   "execution_count": 106,
   "id": "93f4542c",
   "metadata": {},
   "outputs": [],
   "source": [
    "ball = [\" \",\"O\", \" \"]\n"
   ]
  },
  {
   "cell_type": "code",
   "execution_count": 107,
   "id": "6fa556d8",
   "metadata": {},
   "outputs": [],
   "source": [
    "from random import shuffle"
   ]
  },
  {
   "cell_type": "code",
   "execution_count": 108,
   "id": "348bb2b5",
   "metadata": {},
   "outputs": [],
   "source": [
    "shuffle(ball)"
   ]
  },
  {
   "cell_type": "code",
   "execution_count": 109,
   "id": "80ba35dd",
   "metadata": {},
   "outputs": [
    {
     "data": {
      "text/plain": [
       "[' ', 'O', ' ']"
      ]
     },
     "execution_count": 109,
     "metadata": {},
     "output_type": "execute_result"
    }
   ],
   "source": [
    "ball"
   ]
  },
  {
   "cell_type": "markdown",
   "id": "a4cc59c8",
   "metadata": {},
   "source": [
    "we need to return the shuffle output since shuffle fn is inplace\n"
   ]
  },
  {
   "cell_type": "code",
   "execution_count": 141,
   "id": "3dc06fba",
   "metadata": {},
   "outputs": [],
   "source": [
    "def shuffle_return(ball):\n",
    "    shuffle(ball)\n",
    "    return ball"
   ]
  },
  {
   "cell_type": "markdown",
   "id": "b1b0a7c7",
   "metadata": {},
   "source": [
    "Now take a user guess as input"
   ]
  },
  {
   "cell_type": "code",
   "execution_count": 142,
   "id": "6a08d9ce",
   "metadata": {},
   "outputs": [],
   "source": [
    "def user_input():\n",
    "    g = \"\"\n",
    "    while g not in ['0','1','2']:\n",
    "        g = input(\"Enter user guess: \")\n",
    "    return int(g)"
   ]
  },
  {
   "cell_type": "markdown",
   "id": "0de41ce5",
   "metadata": {},
   "source": [
    "Check user guess aganist shuffled list"
   ]
  },
  {
   "cell_type": "code",
   "execution_count": 145,
   "id": "13f09c2c",
   "metadata": {},
   "outputs": [],
   "source": [
    "def check_guess(user_guess,ball):\n",
    "    \n",
    "    if ball[user_guess] == \"O\":\n",
    "        print(\"Correct!\")\n",
    "    else:\n",
    "        print(\"Wrong\")\n",
    "        print(ball)"
   ]
  },
  {
   "cell_type": "markdown",
   "id": "32f504e1",
   "metadata": {},
   "source": [
    "Now to combine these functions"
   ]
  },
  {
   "cell_type": "code",
   "execution_count": 146,
   "id": "c46086bb",
   "metadata": {},
   "outputs": [
    {
     "name": "stdout",
     "output_type": "stream",
     "text": [
      "Enter user guess: 0\n",
      "Wrong\n",
      "[' ', ' ', 'O']\n"
     ]
    }
   ],
   "source": [
    "#we need to have list\n",
    "ball = [\" \", \"O\", \" \"]\n",
    "\n",
    "#shuffle the ball\n",
    "shuffled = shuffle_return(ball)\n",
    "\n",
    "#take user input\n",
    "guess = user_input()\n",
    "\n",
    "\n",
    "check_guess(guess,shuffled)"
   ]
  },
  {
   "cell_type": "code",
   "execution_count": null,
   "id": "0e11c806",
   "metadata": {},
   "outputs": [],
   "source": []
  },
  {
   "cell_type": "code",
   "execution_count": 1,
   "id": "f2cfe031",
   "metadata": {},
   "outputs": [],
   "source": [
    "d = {\"a\":12}\n"
   ]
  },
  {
   "cell_type": "code",
   "execution_count": 3,
   "id": "a7f7eab7",
   "metadata": {},
   "outputs": [
    {
     "data": {
      "text/plain": [
       "12"
      ]
     },
     "execution_count": 3,
     "metadata": {},
     "output_type": "execute_result"
    }
   ],
   "source": [
    "d[\"a\"]"
   ]
  },
  {
   "cell_type": "markdown",
   "id": "b7a8072a",
   "metadata": {},
   "source": [
    "# *args and **kwagrs\n",
    "*args:-  args(arguments) are used to pass variable number of arguments to a function. It is used to pass a non-keyworded, variable-length argument list.  if we return args, it is returned as **tuples**\n",
    "\n",
    "**kwargs:- kwargs (keyword arguments) are used to pass keyworded, variable-length argument list. if we retun kwargs it returns ad dictionary"
   ]
  },
  {
   "cell_type": "code",
   "execution_count": 4,
   "id": "6199678b",
   "metadata": {},
   "outputs": [],
   "source": [
    "def myfunc(*args):\n",
    "    return sum(args)"
   ]
  },
  {
   "cell_type": "code",
   "execution_count": 5,
   "id": "ae308b1e",
   "metadata": {},
   "outputs": [
    {
     "data": {
      "text/plain": [
       "150"
      ]
     },
     "execution_count": 5,
     "metadata": {},
     "output_type": "execute_result"
    }
   ],
   "source": [
    "myfunc(10,20,30,40,50)"
   ]
  },
  {
   "cell_type": "code",
   "execution_count": 6,
   "id": "1d91aabe",
   "metadata": {},
   "outputs": [],
   "source": [
    "def myfunc1(**kwargs):\n",
    "    return kwargs"
   ]
  },
  {
   "cell_type": "code",
   "execution_count": 8,
   "id": "620f28ff",
   "metadata": {},
   "outputs": [
    {
     "data": {
      "text/plain": [
       "{'fruit': 'banana', 'veg': 'carrot'}"
      ]
     },
     "execution_count": 8,
     "metadata": {},
     "output_type": "execute_result"
    }
   ],
   "source": [
    "myfunc1(fruit=\"banana\",veg=\"carrot\")"
   ]
  },
  {
   "cell_type": "code",
   "execution_count": 16,
   "id": "5872bf85",
   "metadata": {},
   "outputs": [],
   "source": [
    "def test(args) -> str:\n",
    "    return type(args)"
   ]
  },
  {
   "cell_type": "code",
   "execution_count": 18,
   "id": "2f0bd939",
   "metadata": {},
   "outputs": [
    {
     "data": {
      "text/plain": [
       "str"
      ]
     },
     "execution_count": 18,
     "metadata": {},
     "output_type": "execute_result"
    }
   ],
   "source": [
    "test(\"10\")"
   ]
  },
  {
   "cell_type": "code",
   "execution_count": 4,
   "id": "5d596e6d",
   "metadata": {},
   "outputs": [],
   "source": [
    "def myfunc2(*args):\n",
    "    return list(args)"
   ]
  },
  {
   "cell_type": "code",
   "execution_count": 6,
   "id": "d18c7c20",
   "metadata": {},
   "outputs": [
    {
     "data": {
      "text/plain": [
       "[-1, -2, 4, 3, 5]"
      ]
     },
     "execution_count": 6,
     "metadata": {},
     "output_type": "execute_result"
    }
   ],
   "source": [
    "myfunc2(-1,-2,4,3,5)"
   ]
  },
  {
   "cell_type": "code",
   "execution_count": null,
   "id": "ce5e9f27",
   "metadata": {},
   "outputs": [],
   "source": []
  }
 ],
 "metadata": {
  "kernelspec": {
   "display_name": "Python 3 (ipykernel)",
   "language": "python",
   "name": "python3"
  },
  "language_info": {
   "codemirror_mode": {
    "name": "ipython",
    "version": 3
   },
   "file_extension": ".py",
   "mimetype": "text/x-python",
   "name": "python",
   "nbconvert_exporter": "python",
   "pygments_lexer": "ipython3",
   "version": "3.11.4"
  }
 },
 "nbformat": 4,
 "nbformat_minor": 5
}
