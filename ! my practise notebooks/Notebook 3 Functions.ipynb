{
 "cells": [
  {
   "cell_type": "code",
   "execution_count": 2,
   "id": "796305d2",
   "metadata": {},
   "outputs": [],
   "source": [
    "def say_hello():\n",
    "    print(\"hello\")"
   ]
  },
  {
   "cell_type": "code",
   "execution_count": 7,
   "id": "aa2d3cb4",
   "metadata": {},
   "outputs": [
    {
     "name": "stdout",
     "output_type": "stream",
     "text": [
      "hello\n"
     ]
    }
   ],
   "source": [
    "say_hello()"
   ]
  },
  {
   "cell_type": "code",
   "execution_count": 8,
   "id": "5d8d0ba1",
   "metadata": {},
   "outputs": [],
   "source": [
    "def say_hello(name=\"default\"):\n",
    "    print(f\"hello {name}\")"
   ]
  },
  {
   "cell_type": "code",
   "execution_count": 9,
   "id": "3c782cf6",
   "metadata": {},
   "outputs": [
    {
     "name": "stdout",
     "output_type": "stream",
     "text": [
      "hello default\n"
     ]
    }
   ],
   "source": [
    "say_hello()"
   ]
  },
  {
   "cell_type": "code",
   "execution_count": 10,
   "id": "e84ac734",
   "metadata": {},
   "outputs": [
    {
     "name": "stdout",
     "output_type": "stream",
     "text": [
      "hello naresh\n"
     ]
    }
   ],
   "source": [
    "say_hello(\"naresh\")"
   ]
  },
  {
   "cell_type": "code",
   "execution_count": 11,
   "id": "dbe30c7a",
   "metadata": {},
   "outputs": [],
   "source": [
    "def add_num(num1,num2):\n",
    "    return num1+num2"
   ]
  },
  {
   "cell_type": "code",
   "execution_count": 12,
   "id": "fc78cd15",
   "metadata": {},
   "outputs": [
    {
     "data": {
      "text/plain": [
       "30"
      ]
     },
     "execution_count": 12,
     "metadata": {},
     "output_type": "execute_result"
    }
   ],
   "source": [
    "add_num(10,20)"
   ]
  },
  {
   "cell_type": "code",
   "execution_count": 14,
   "id": "9e5b504b",
   "metadata": {},
   "outputs": [
    {
     "data": {
      "text/plain": [
       "31"
      ]
     },
     "execution_count": 14,
     "metadata": {},
     "output_type": "execute_result"
    }
   ],
   "source": [
    "result = add_num(10,21)\n",
    "result\n"
   ]
  },
  {
   "cell_type": "code",
   "execution_count": 21,
   "id": "bf83cb91",
   "metadata": {},
   "outputs": [],
   "source": [
    "def print_result(num1,num2):\n",
    "    print(num1+num2)"
   ]
  },
  {
   "cell_type": "code",
   "execution_count": 22,
   "id": "864276b1",
   "metadata": {},
   "outputs": [],
   "source": [
    "def return_result(num1,num2):\n",
    "    return num1+num2"
   ]
  },
  {
   "cell_type": "code",
   "execution_count": 23,
   "id": "4612716c",
   "metadata": {},
   "outputs": [
    {
     "name": "stdout",
     "output_type": "stream",
     "text": [
      "32\n"
     ]
    }
   ],
   "source": [
    "p_result = print_result(10,22)"
   ]
  },
  {
   "cell_type": "code",
   "execution_count": 25,
   "id": "a486a654",
   "metadata": {},
   "outputs": [
    {
     "data": {
      "text/plain": [
       "NoneType"
      ]
     },
     "execution_count": 25,
     "metadata": {},
     "output_type": "execute_result"
    }
   ],
   "source": [
    "type(p_result)"
   ]
  },
  {
   "cell_type": "code",
   "execution_count": 28,
   "id": "99c20670",
   "metadata": {},
   "outputs": [],
   "source": [
    "r_result = return_result(11,25)"
   ]
  },
  {
   "cell_type": "code",
   "execution_count": 29,
   "id": "e969f358",
   "metadata": {},
   "outputs": [
    {
     "data": {
      "text/plain": [
       "36"
      ]
     },
     "execution_count": 29,
     "metadata": {},
     "output_type": "execute_result"
    }
   ],
   "source": [
    "r_result"
   ]
  },
  {
   "cell_type": "code",
   "execution_count": 30,
   "id": "daed3493",
   "metadata": {},
   "outputs": [
    {
     "data": {
      "text/plain": [
       "int"
      ]
     },
     "execution_count": 30,
     "metadata": {},
     "output_type": "execute_result"
    }
   ],
   "source": [
    "type(r_result)"
   ]
  },
  {
   "cell_type": "code",
   "execution_count": 32,
   "id": "918ba58b",
   "metadata": {},
   "outputs": [],
   "source": [
    "# check if a number is even with fn\n",
    "def is_even(number):\n",
    "    if number % 2 == 0:\n",
    "        print(f\"{number} is even\")\n",
    "        return True\n",
    "    else:\n",
    "        print(f\"{number} is odd\")\n",
    "        return False"
   ]
  },
  {
   "cell_type": "code",
   "execution_count": 33,
   "id": "a5750f20",
   "metadata": {},
   "outputs": [
    {
     "name": "stdout",
     "output_type": "stream",
     "text": [
      "56 is even\n"
     ]
    },
    {
     "data": {
      "text/plain": [
       "True"
      ]
     },
     "execution_count": 33,
     "metadata": {},
     "output_type": "execute_result"
    }
   ],
   "source": [
    "is_even(56)"
   ]
  },
  {
   "cell_type": "code",
   "execution_count": 34,
   "id": "d715848f",
   "metadata": {},
   "outputs": [],
   "source": [
    "def is_even(number):\n",
    "    return number % 2 ==0"
   ]
  },
  {
   "cell_type": "code",
   "execution_count": 35,
   "id": "1b62b2e0",
   "metadata": {},
   "outputs": [
    {
     "data": {
      "text/plain": [
       "True"
      ]
     },
     "execution_count": 35,
     "metadata": {},
     "output_type": "execute_result"
    }
   ],
   "source": [
    "is_even(56)"
   ]
  },
  {
   "cell_type": "code",
   "execution_count": 36,
   "id": "2d40dc50",
   "metadata": {},
   "outputs": [],
   "source": [
    "# reurn true if any number in list is even"
   ]
  },
  {
   "cell_type": "code",
   "execution_count": 37,
   "id": "c864f576",
   "metadata": {},
   "outputs": [],
   "source": [
    "def check_even_list(lst):\n",
    "    \n",
    "    for i in lst:\n",
    "        if i % 2 == 0:\n",
    "            return True\n",
    "        else:\n",
    "            pass"
   ]
  },
  {
   "cell_type": "code",
   "execution_count": 43,
   "id": "763f23d4",
   "metadata": {},
   "outputs": [
    {
     "data": {
      "text/plain": [
       "False"
      ]
     },
     "execution_count": 43,
     "metadata": {},
     "output_type": "execute_result"
    }
   ],
   "source": [
    "check_even_list([1,3,5,79,9])"
   ]
  },
  {
   "cell_type": "code",
   "execution_count": 41,
   "id": "f84bd33f",
   "metadata": {},
   "outputs": [],
   "source": [
    "def check_even_list(lst):\n",
    "    \n",
    "    for i in lst:\n",
    "        if i % 2 == 0:\n",
    "            return True\n",
    "        else:\n",
    "            pass\n",
    "    return False"
   ]
  },
  {
   "cell_type": "code",
   "execution_count": 61,
   "id": "a7a33c8a",
   "metadata": {},
   "outputs": [],
   "source": [
    "lst = [3,5,3,6,9,8,7,4,5,2,1,0]"
   ]
  },
  {
   "cell_type": "code",
   "execution_count": 62,
   "id": "3560d25b",
   "metadata": {},
   "outputs": [],
   "source": [
    "#return all even numbers in list\n",
    "def return_even_num(lst):\n",
    "    \n",
    "    even_lst = []\n",
    "    for i in lst:\n",
    "        if i % 2 == 0:\n",
    "            even_lst.append(i)\n",
    "    return even_lst"
   ]
  },
  {
   "cell_type": "code",
   "execution_count": 71,
   "id": "f8c6f71e",
   "metadata": {},
   "outputs": [
    {
     "data": {
      "text/plain": [
       "[6, 8, 4, 2, 0]"
      ]
     },
     "execution_count": 71,
     "metadata": {},
     "output_type": "execute_result"
    }
   ],
   "source": [
    "return_even_num(lst)\n"
   ]
  },
  {
   "cell_type": "code",
   "execution_count": null,
   "id": "fec79b36",
   "metadata": {},
   "outputs": [],
   "source": []
  },
  {
   "cell_type": "code",
   "execution_count": null,
   "id": "bb5af6ab",
   "metadata": {},
   "outputs": [],
   "source": []
  }
 ],
 "metadata": {
  "kernelspec": {
   "display_name": "Python 3 (ipykernel)",
   "language": "python",
   "name": "python3"
  },
  "language_info": {
   "codemirror_mode": {
    "name": "ipython",
    "version": 3
   },
   "file_extension": ".py",
   "mimetype": "text/x-python",
   "name": "python",
   "nbconvert_exporter": "python",
   "pygments_lexer": "ipython3",
   "version": "3.11.4"
  }
 },
 "nbformat": 4,
 "nbformat_minor": 5
}
