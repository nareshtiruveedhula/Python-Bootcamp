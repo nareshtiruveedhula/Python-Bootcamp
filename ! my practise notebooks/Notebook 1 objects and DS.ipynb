{
 "cells": [
  {
   "cell_type": "code",
   "execution_count": null,
   "id": "5066170b",
   "metadata": {
    "scrolled": true
   },
   "outputs": [],
   "source": [
    "print(\"hello \")"
   ]
  },
  {
   "cell_type": "markdown",
   "id": "3d3db189",
   "metadata": {},
   "source": [
    "# Heading Text\n",
    "## 2nd heading text"
   ]
  },
  {
   "cell_type": "code",
   "execution_count": null,
   "id": "c094a30b",
   "metadata": {},
   "outputs": [],
   "source": [
    "st = 'hello'\n"
   ]
  },
  {
   "cell_type": "code",
   "execution_count": null,
   "id": "5094ae87",
   "metadata": {},
   "outputs": [],
   "source": [
    "st[1]"
   ]
  },
  {
   "cell_type": "code",
   "execution_count": null,
   "id": "89dffc80",
   "metadata": {},
   "outputs": [],
   "source": [
    "st[-1]"
   ]
  },
  {
   "cell_type": "code",
   "execution_count": null,
   "id": "58c5cb28",
   "metadata": {},
   "outputs": [],
   "source": [
    "st[::-1]"
   ]
  },
  {
   "cell_type": "code",
   "execution_count": null,
   "id": "aee43e1f",
   "metadata": {},
   "outputs": [],
   "source": [
    "a= \"i'm going on a run\"\n",
    "a"
   ]
  },
  {
   "cell_type": "code",
   "execution_count": null,
   "id": "9500bc36",
   "metadata": {},
   "outputs": [],
   "source": [
    "print(a)"
   ]
  },
  {
   "cell_type": "code",
   "execution_count": null,
   "id": "2662b73a",
   "metadata": {},
   "outputs": [],
   "source": [
    "type(a)"
   ]
  },
  {
   "cell_type": "code",
   "execution_count": null,
   "id": "26141e2f",
   "metadata": {},
   "outputs": [],
   "source": [
    "b=\"g ate\"\n",
    "len(b)"
   ]
  },
  {
   "cell_type": "code",
   "execution_count": null,
   "id": "f071a7b6",
   "metadata": {},
   "outputs": [],
   "source": [
    "b[1]"
   ]
  },
  {
   "cell_type": "code",
   "execution_count": null,
   "id": "f5270b33",
   "metadata": {},
   "outputs": [],
   "source": [
    "print(b[0])"
   ]
  },
  {
   "cell_type": "code",
   "execution_count": 3,
   "id": "80a209b9",
   "metadata": {},
   "outputs": [],
   "source": [
    "c='abcdefghijklmnop'"
   ]
  },
  {
   "cell_type": "code",
   "execution_count": null,
   "id": "8d7668a0",
   "metadata": {},
   "outputs": [],
   "source": [
    "c[1:-1]"
   ]
  },
  {
   "cell_type": "code",
   "execution_count": null,
   "id": "0345f0e6",
   "metadata": {},
   "outputs": [],
   "source": [
    "c[:3]"
   ]
  },
  {
   "cell_type": "code",
   "execution_count": null,
   "id": "e8e39b05",
   "metadata": {},
   "outputs": [],
   "source": [
    "25000*150"
   ]
  },
  {
   "cell_type": "code",
   "execution_count": 8,
   "id": "915ace1d",
   "metadata": {},
   "outputs": [
    {
     "data": {
      "text/plain": [
       "56.0"
      ]
     },
     "execution_count": 8,
     "metadata": {},
     "output_type": "execute_result"
    }
   ],
   "source": [
    "15.8*4-7.2\n"
   ]
  },
  {
   "cell_type": "markdown",
   "id": "b67331fb",
   "metadata": {},
   "source": [
    "# String Formating"
   ]
  },
  {
   "cell_type": "code",
   "execution_count": 1,
   "id": "7b69678e",
   "metadata": {},
   "outputs": [
    {
     "data": {
      "text/plain": [
       "0.2857142857142857"
      ]
     },
     "execution_count": 1,
     "metadata": {},
     "output_type": "execute_result"
    }
   ],
   "source": [
    "result = 22/77\n",
    "result"
   ]
  },
  {
   "cell_type": "markdown",
   "id": "9105dbbf",
   "metadata": {},
   "source": [
    "# F-strings"
   ]
  },
  {
   "cell_type": "code",
   "execution_count": 6,
   "id": "2c9611b1",
   "metadata": {},
   "outputs": [
    {
     "name": "stdout",
     "output_type": "stream",
     "text": [
      "The result is 0.28571\n"
     ]
    }
   ],
   "source": [
    "print(f\"The result is {result:1.5f}\")"
   ]
  },
  {
   "cell_type": "code",
   "execution_count": 6,
   "id": "fc361ab7",
   "metadata": {},
   "outputs": [],
   "source": [
    "name = \"naresh\""
   ]
  },
  {
   "cell_type": "code",
   "execution_count": 7,
   "id": "a6e46a54",
   "metadata": {},
   "outputs": [],
   "source": [
    "name = list(name)"
   ]
  },
  {
   "cell_type": "code",
   "execution_count": 8,
   "id": "4b06963e",
   "metadata": {},
   "outputs": [
    {
     "data": {
      "text/plain": [
       "['n', 'a', 'r', 'e', 's', 'h']"
      ]
     },
     "execution_count": 8,
     "metadata": {},
     "output_type": "execute_result"
    }
   ],
   "source": [
    "name"
   ]
  },
  {
   "cell_type": "code",
   "execution_count": 9,
   "id": "06d681b0",
   "metadata": {},
   "outputs": [],
   "source": [
    "name1 =\"naresh\""
   ]
  },
  {
   "cell_type": "code",
   "execution_count": 10,
   "id": "1cdeb457",
   "metadata": {},
   "outputs": [
    {
     "data": {
      "text/plain": [
       "True"
      ]
     },
     "execution_count": 10,
     "metadata": {},
     "output_type": "execute_result"
    }
   ],
   "source": [
    "name1.isalnum()"
   ]
  },
  {
   "cell_type": "markdown",
   "id": "b43a7fe2",
   "metadata": {},
   "source": []
  },
  {
   "cell_type": "code",
   "execution_count": null,
   "id": "3a28a555",
   "metadata": {},
   "outputs": [],
   "source": []
  },
  {
   "cell_type": "code",
   "execution_count": 21,
   "id": "52a763aa",
   "metadata": {},
   "outputs": [],
   "source": [
    "d = {\"key1\":[\"a\",\"b\",\"c\"]}"
   ]
  },
  {
   "cell_type": "code",
   "execution_count": 22,
   "id": "d6a1421a",
   "metadata": {},
   "outputs": [
    {
     "data": {
      "text/plain": [
       "'c'"
      ]
     },
     "execution_count": 22,
     "metadata": {},
     "output_type": "execute_result"
    }
   ],
   "source": [
    "d[\"key1\"][2]"
   ]
  },
  {
   "cell_type": "code",
   "execution_count": 23,
   "id": "a7ed1b73",
   "metadata": {},
   "outputs": [
    {
     "data": {
      "text/plain": [
       "'C'"
      ]
     },
     "execution_count": 23,
     "metadata": {},
     "output_type": "execute_result"
    }
   ],
   "source": [
    "d[\"key1\"][2].upper()"
   ]
  },
  {
   "cell_type": "code",
   "execution_count": 28,
   "id": "2c59aa59",
   "metadata": {},
   "outputs": [
    {
     "data": {
      "text/plain": [
       "dict_values"
      ]
     },
     "execution_count": 28,
     "metadata": {},
     "output_type": "execute_result"
    }
   ],
   "source": [
    "type(d.values())"
   ]
  },
  {
   "cell_type": "code",
   "execution_count": 29,
   "id": "41fd9b0a",
   "metadata": {},
   "outputs": [
    {
     "data": {
      "text/plain": [
       "dict_values([['a', 'b', 'c']])"
      ]
     },
     "execution_count": 29,
     "metadata": {},
     "output_type": "execute_result"
    }
   ],
   "source": [
    "d.values()"
   ]
  },
  {
   "cell_type": "code",
   "execution_count": 1,
   "id": "6335650d",
   "metadata": {},
   "outputs": [],
   "source": [
    "myset = set()"
   ]
  },
  {
   "cell_type": "code",
   "execution_count": 2,
   "id": "50ef92ab",
   "metadata": {},
   "outputs": [],
   "source": [
    "myset.add(1)"
   ]
  },
  {
   "cell_type": "code",
   "execution_count": 3,
   "id": "66708515",
   "metadata": {},
   "outputs": [
    {
     "data": {
      "text/plain": [
       "{1}"
      ]
     },
     "execution_count": 3,
     "metadata": {},
     "output_type": "execute_result"
    }
   ],
   "source": [
    "myset"
   ]
  },
  {
   "cell_type": "code",
   "execution_count": 7,
   "id": "b0ab34ab",
   "metadata": {},
   "outputs": [
    {
     "data": {
      "text/plain": [
       "{0, 1, 2, 3, 4, 5, 6, 9, 39}"
      ]
     },
     "execution_count": 7,
     "metadata": {},
     "output_type": "execute_result"
    }
   ],
   "source": [
    "mylist = [39,4,9,0,2,3,6,5,4,1]\n",
    "set(mylist)"
   ]
  },
  {
   "cell_type": "code",
   "execution_count": 8,
   "id": "55c8d28d",
   "metadata": {},
   "outputs": [],
   "source": [
    "myset1 = set()"
   ]
  },
  {
   "cell_type": "code",
   "execution_count": 17,
   "id": "e90d3bb7",
   "metadata": {},
   "outputs": [],
   "source": [
    "b={1,2,3,1}\n",
    "b=set(b)"
   ]
  },
  {
   "cell_type": "code",
   "execution_count": 19,
   "id": "dd0cfcd8",
   "metadata": {},
   "outputs": [
    {
     "name": "stdout",
     "output_type": "stream",
     "text": [
      "<class 'set'>\n"
     ]
    },
    {
     "data": {
      "text/plain": [
       "{1, 2, 3}"
      ]
     },
     "execution_count": 19,
     "metadata": {},
     "output_type": "execute_result"
    }
   ],
   "source": [
    "print(type(b))\n",
    "b"
   ]
  },
  {
   "cell_type": "markdown",
   "id": "436599ca",
   "metadata": {},
   "source": [
    "# I/O functions in Python"
   ]
  },
  {
   "cell_type": "code",
   "execution_count": 24,
   "id": "c5335480",
   "metadata": {},
   "outputs": [
    {
     "data": {
      "text/plain": [
       "'C:\\\\Users\\\\naresh\\\\Desktop\\\\practice python'"
      ]
     },
     "execution_count": 24,
     "metadata": {},
     "output_type": "execute_result"
    }
   ],
   "source": [
    "pwd"
   ]
  },
  {
   "cell_type": "markdown",
   "id": "438f0098",
   "metadata": {},
   "source": [
    "# The \"%%writefile\" is exclusive to jupyter notebook!! \n",
    "### An file will be saved to the current location of the notebook."
   ]
  },
  {
   "cell_type": "code",
   "execution_count": 25,
   "id": "e739e585",
   "metadata": {},
   "outputs": [
    {
     "name": "stdout",
     "output_type": "stream",
     "text": [
      "Overwriting sample.txt\n"
     ]
    }
   ],
   "source": [
    "%%writefile sample.txt\n",
    "This is the First line.\n",
    "This is the Seconod line.\n",
    "This is the third line."
   ]
  },
  {
   "cell_type": "code",
   "execution_count": 53,
   "id": "37146a77",
   "metadata": {},
   "outputs": [],
   "source": [
    "myfile=open('sample.txt')"
   ]
  },
  {
   "cell_type": "code",
   "execution_count": 54,
   "id": "aac96e14",
   "metadata": {},
   "outputs": [
    {
     "data": {
      "text/plain": [
       "'This is the First line.\\nThis is the Seconod line.\\nThis is the third line.\\n'"
      ]
     },
     "execution_count": 54,
     "metadata": {},
     "output_type": "execute_result"
    }
   ],
   "source": [
    "myfile.read()"
   ]
  },
  {
   "cell_type": "markdown",
   "id": "dea63494",
   "metadata": {},
   "source": [
    "# If you try to read the file again with .read() method, you need to use .seek(0) method to reset the cursor that will be at the end of the file when you use read method."
   ]
  },
  {
   "cell_type": "code",
   "execution_count": 47,
   "id": "cefe4896",
   "metadata": {},
   "outputs": [
    {
     "data": {
      "text/plain": [
       "''"
      ]
     },
     "execution_count": 47,
     "metadata": {},
     "output_type": "execute_result"
    }
   ],
   "source": [
    "myfile.read()"
   ]
  },
  {
   "cell_type": "code",
   "execution_count": 56,
   "id": "a7d8a382",
   "metadata": {},
   "outputs": [
    {
     "data": {
      "text/plain": [
       "0"
      ]
     },
     "execution_count": 56,
     "metadata": {},
     "output_type": "execute_result"
    }
   ],
   "source": [
    "myfile.seek(0)"
   ]
  },
  {
   "cell_type": "code",
   "execution_count": 49,
   "id": "65f631e7",
   "metadata": {},
   "outputs": [
    {
     "data": {
      "text/plain": [
       "'This is the First line.\\nThis is the Seconod line.\\nThis is the third line.\\n'"
      ]
     },
     "execution_count": 49,
     "metadata": {},
     "output_type": "execute_result"
    }
   ],
   "source": [
    "myfile.read()"
   ]
  },
  {
   "cell_type": "code",
   "execution_count": 50,
   "id": "0102d7a3",
   "metadata": {},
   "outputs": [
    {
     "data": {
      "text/plain": [
       "'C:\\\\Users\\\\naresh\\\\Desktop\\\\practice python'"
      ]
     },
     "execution_count": 50,
     "metadata": {},
     "output_type": "execute_result"
    }
   ],
   "source": [
    "pwd"
   ]
  },
  {
   "cell_type": "code",
   "execution_count": 51,
   "id": "cd65f8b1",
   "metadata": {},
   "outputs": [],
   "source": [
    "myfile.close()"
   ]
  },
  {
   "cell_type": "code",
   "execution_count": 57,
   "id": "5b9c37e9",
   "metadata": {},
   "outputs": [
    {
     "data": {
      "text/plain": [
       "['This is the First line.\\n',\n",
       " 'This is the Seconod line.\\n',\n",
       " 'This is the third line.\\n']"
      ]
     },
     "execution_count": 57,
     "metadata": {},
     "output_type": "execute_result"
    }
   ],
   "source": [
    "myfile.readlines()"
   ]
  },
  {
   "cell_type": "markdown",
   "id": "8751589e",
   "metadata": {},
   "source": [
    "### best practise to open a file in python without worring to close "
   ]
  },
  {
   "cell_type": "code",
   "execution_count": 58,
   "id": "e4ef00d9",
   "metadata": {},
   "outputs": [],
   "source": [
    "with open(\"sample.txt\") as my_new_file:\n",
    "    content = my_new_file.read()"
   ]
  },
  {
   "cell_type": "code",
   "execution_count": 61,
   "id": "f82d6ac1",
   "metadata": {},
   "outputs": [
    {
     "data": {
      "text/plain": [
       "'This is the First line.\\nThis is the Seconod line.\\nThis is the third line.\\n'"
      ]
     },
     "execution_count": 61,
     "metadata": {},
     "output_type": "execute_result"
    }
   ],
   "source": [
    "content"
   ]
  },
  {
   "cell_type": "markdown",
   "id": "3d46ba26",
   "metadata": {},
   "source": [
    "## Shift+Tab on any methods will open documentation on Jupyter Notebook"
   ]
  },
  {
   "cell_type": "code",
   "execution_count": null,
   "id": "3594b61e",
   "metadata": {},
   "outputs": [],
   "source": []
  }
 ],
 "metadata": {
  "kernelspec": {
   "display_name": "Python 3 (ipykernel)",
   "language": "python",
   "name": "python3"
  },
  "language_info": {
   "codemirror_mode": {
    "name": "ipython",
    "version": 3
   },
   "file_extension": ".py",
   "mimetype": "text/x-python",
   "name": "python",
   "nbconvert_exporter": "python",
   "pygments_lexer": "ipython3",
   "version": "3.11.4"
  }
 },
 "nbformat": 4,
 "nbformat_minor": 5
}
