{
 "cells": [
  {
   "cell_type": "markdown",
   "id": "a6f2600f",
   "metadata": {},
   "source": [
    "# map function takes in a function and iterable and applies the function to all the variables passed to it map(func, *iterables)"
   ]
  },
  {
   "cell_type": "code",
   "execution_count": 11,
   "id": "358a86ce",
   "metadata": {},
   "outputs": [],
   "source": [
    "def square(num):\n",
    "    return num**2"
   ]
  },
  {
   "cell_type": "code",
   "execution_count": 4,
   "id": "ead85672",
   "metadata": {},
   "outputs": [],
   "source": [
    "arr = [2,5,8,9,6,3]"
   ]
  },
  {
   "cell_type": "code",
   "execution_count": 13,
   "id": "7ec23f57",
   "metadata": {},
   "outputs": [
    {
     "data": {
      "text/plain": [
       "[4, 25, 64, 81, 36, 9]"
      ]
     },
     "execution_count": 13,
     "metadata": {},
     "output_type": "execute_result"
    }
   ],
   "source": [
    "list(map(square,arr))"
   ]
  },
  {
   "cell_type": "code",
   "execution_count": 16,
   "id": "43e7b7f7",
   "metadata": {},
   "outputs": [],
   "source": [
    "def even(num):\n",
    "    return num%2 == 0"
   ]
  },
  {
   "cell_type": "code",
   "execution_count": 17,
   "id": "85401557",
   "metadata": {},
   "outputs": [
    {
     "data": {
      "text/plain": [
       "[True, False, True, False, True, False]"
      ]
     },
     "execution_count": 17,
     "metadata": {},
     "output_type": "execute_result"
    }
   ],
   "source": [
    "list(map(even,arr))"
   ]
  },
  {
   "cell_type": "markdown",
   "id": "822fe850",
   "metadata": {},
   "source": [
    "# Filter function filter(), first of all, requires the function to return boolean values (true or false) and then passes each element in the iterable through the function, \"filtering\" away those that are false. It has the following syntax:\n",
    "\n",
    "filter(func, iterable)\n"
   ]
  },
  {
   "cell_type": "code",
   "execution_count": 18,
   "id": "f61343b6",
   "metadata": {},
   "outputs": [
    {
     "data": {
      "text/plain": [
       "[2, 8, 6]"
      ]
     },
     "execution_count": 18,
     "metadata": {},
     "output_type": "execute_result"
    }
   ],
   "source": [
    "list(filter(even,arr))"
   ]
  },
  {
   "cell_type": "code",
   "execution_count": 19,
   "id": "9fad7356",
   "metadata": {},
   "outputs": [
    {
     "data": {
      "text/plain": [
       "[2, 5, 8, 9, 6, 3]"
      ]
     },
     "execution_count": 19,
     "metadata": {},
     "output_type": "execute_result"
    }
   ],
   "source": [
    "list(filter(square,arr))"
   ]
  },
  {
   "cell_type": "markdown",
   "id": "c5c0b78e",
   "metadata": {},
   "source": []
  },
  {
   "cell_type": "markdown",
   "id": "988830a1",
   "metadata": {},
   "source": [
    "# Lambda function  \n",
    "## A lambda function is a small anonymous function. A lambda function can take any number of arguments, but can only have one expression.\n",
    "\n",
    "## Lambda functions are similar to user-defined functions but without a name. They're commonly referred to as anonymous functions. Lambda functions are efficient whenever you want to create a function that will only contain simple expressions – that is, expressions that are usually a single line of a statement.\n",
    "\n",
    "\n",
    "  SYNTAX:  __lambda arguments : expression__"
   ]
  },
  {
   "cell_type": "code",
   "execution_count": 2,
   "id": "81360c9d",
   "metadata": {},
   "outputs": [
    {
     "data": {
      "text/plain": [
       "<function __main__.<lambda>(num)>"
      ]
     },
     "execution_count": 2,
     "metadata": {},
     "output_type": "execute_result"
    }
   ],
   "source": [
    "# lets transform square function into lambda function\n",
    "\n",
    "lambda num: num**2"
   ]
  },
  {
   "cell_type": "code",
   "execution_count": 5,
   "id": "9fcda584",
   "metadata": {},
   "outputs": [
    {
     "data": {
      "text/plain": [
       "[4, 25, 64, 81, 36, 9]"
      ]
     },
     "execution_count": 5,
     "metadata": {},
     "output_type": "execute_result"
    }
   ],
   "source": [
    "# lets use lambda function with map function\n",
    "\n",
    "list(map(lambda num: num**2, arr))"
   ]
  },
  {
   "cell_type": "markdown",
   "id": "8d44dbf1",
   "metadata": {},
   "source": [
    " "
   ]
  },
  {
   "cell_type": "code",
   "execution_count": 8,
   "id": "54d14b1a",
   "metadata": {},
   "outputs": [
    {
     "data": {
      "text/plain": [
       "[2, 8, 6]"
      ]
     },
     "execution_count": 8,
     "metadata": {},
     "output_type": "execute_result"
    }
   ],
   "source": [
    "#lets use lambda function with filter function\n",
    "list(filter(lambda num: num%2 == 0,arr))"
   ]
  },
  {
   "cell_type": "code",
   "execution_count": 9,
   "id": "a51aecc1",
   "metadata": {},
   "outputs": [
    {
     "data": {
      "text/plain": [
       "['a', 'b', 'c']"
      ]
     },
     "execution_count": 9,
     "metadata": {},
     "output_type": "execute_result"
    }
   ],
   "source": [
    "# grab first letters from list with lambda fuction\n",
    "mylist = [\"adder\",\"bob\",\"candice\"]\n",
    "list(map(lambda string: string[0],mylist))"
   ]
  },
  {
   "cell_type": "code",
   "execution_count": null,
   "id": "b53472b4",
   "metadata": {},
   "outputs": [],
   "source": []
  }
 ],
 "metadata": {
  "kernelspec": {
   "display_name": "Python 3 (ipykernel)",
   "language": "python",
   "name": "python3"
  },
  "language_info": {
   "codemirror_mode": {
    "name": "ipython",
    "version": 3
   },
   "file_extension": ".py",
   "mimetype": "text/x-python",
   "name": "python",
   "nbconvert_exporter": "python",
   "pygments_lexer": "ipython3",
   "version": "3.11.4"
  }
 },
 "nbformat": 4,
 "nbformat_minor": 5
}
