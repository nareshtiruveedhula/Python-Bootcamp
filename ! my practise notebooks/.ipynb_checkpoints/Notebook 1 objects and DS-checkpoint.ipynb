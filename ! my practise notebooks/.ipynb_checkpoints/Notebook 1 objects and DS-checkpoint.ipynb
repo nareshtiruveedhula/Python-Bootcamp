{
 "cells": [
  {
   "cell_type": "code",
   "execution_count": null,
   "id": "5066170b",
   "metadata": {
    "scrolled": true
   },
   "outputs": [],
   "source": [
    "print(\"hello \")"
   ]
  },
  {
   "cell_type": "markdown",
   "id": "3d3db189",
   "metadata": {},
   "source": [
    "# Heading Text\n",
    "##2nd heading text"
   ]
  },
  {
   "cell_type": "code",
   "execution_count": null,
   "id": "c094a30b",
   "metadata": {},
   "outputs": [],
   "source": [
    "st = 'hello'\n"
   ]
  },
  {
   "cell_type": "code",
   "execution_count": null,
   "id": "5094ae87",
   "metadata": {},
   "outputs": [],
   "source": [
    "st[1]"
   ]
  },
  {
   "cell_type": "code",
   "execution_count": null,
   "id": "89dffc80",
   "metadata": {},
   "outputs": [],
   "source": [
    "st[-1]"
   ]
  },
  {
   "cell_type": "code",
   "execution_count": null,
   "id": "58c5cb28",
   "metadata": {},
   "outputs": [],
   "source": [
    "st[::-1]"
   ]
  },
  {
   "cell_type": "code",
   "execution_count": null,
   "id": "aee43e1f",
   "metadata": {},
   "outputs": [],
   "source": [
    "a= \"i'm going on a run\"\n",
    "a"
   ]
  },
  {
   "cell_type": "code",
   "execution_count": null,
   "id": "9500bc36",
   "metadata": {},
   "outputs": [],
   "source": [
    "print(a)"
   ]
  },
  {
   "cell_type": "code",
   "execution_count": null,
   "id": "2662b73a",
   "metadata": {},
   "outputs": [],
   "source": [
    "type(a)"
   ]
  },
  {
   "cell_type": "code",
   "execution_count": null,
   "id": "26141e2f",
   "metadata": {},
   "outputs": [],
   "source": [
    "b=\"g ate\"\n",
    "len(b)"
   ]
  },
  {
   "cell_type": "code",
   "execution_count": null,
   "id": "f071a7b6",
   "metadata": {},
   "outputs": [],
   "source": [
    "b[1]"
   ]
  },
  {
   "cell_type": "code",
   "execution_count": null,
   "id": "f5270b33",
   "metadata": {},
   "outputs": [],
   "source": [
    "print(b[0])"
   ]
  },
  {
   "cell_type": "code",
   "execution_count": 3,
   "id": "80a209b9",
   "metadata": {},
   "outputs": [],
   "source": [
    "c='abcdefghijklmnop'"
   ]
  },
  {
   "cell_type": "code",
   "execution_count": null,
   "id": "8d7668a0",
   "metadata": {},
   "outputs": [],
   "source": [
    "c[1:-1]"
   ]
  },
  {
   "cell_type": "code",
   "execution_count": null,
   "id": "0345f0e6",
   "metadata": {},
   "outputs": [],
   "source": [
    "c[:3]"
   ]
  },
  {
   "cell_type": "code",
   "execution_count": null,
   "id": "e8e39b05",
   "metadata": {},
   "outputs": [],
   "source": [
    "25000*150"
   ]
  },
  {
   "cell_type": "code",
   "execution_count": 8,
   "id": "915ace1d",
   "metadata": {},
   "outputs": [
    {
     "data": {
      "text/plain": [
       "56.0"
      ]
     },
     "execution_count": 8,
     "metadata": {},
     "output_type": "execute_result"
    }
   ],
   "source": [
    "15.8*4-7.2\n"
   ]
  },
  {
   "cell_type": "markdown",
   "id": "b67331fb",
   "metadata": {},
   "source": [
    "# String Formating"
   ]
  },
  {
   "cell_type": "code",
   "execution_count": 7,
   "id": "7b69678e",
   "metadata": {},
   "outputs": [
    {
     "data": {
      "text/plain": [
       "0.2857142857142857"
      ]
     },
     "execution_count": 7,
     "metadata": {},
     "output_type": "execute_result"
    }
   ],
   "source": [
    "result = 22/77\n",
    "result"
   ]
  },
  {
   "cell_type": "code",
   "execution_count": 6,
   "id": "2c9611b1",
   "metadata": {},
   "outputs": [
    {
     "name": "stdout",
     "output_type": "stream",
     "text": [
      "The result is 0.28571\n"
     ]
    }
   ],
   "source": [
    "print(f\"The result is {result:1.5f}\")"
   ]
  },
  {
   "cell_type": "code",
   "execution_count": 9,
   "id": "fc361ab7",
   "metadata": {},
   "outputs": [],
   "source": [
    "name = \"naresh\""
   ]
  },
  {
   "cell_type": "code",
   "execution_count": 10,
   "id": "a6e46a54",
   "metadata": {},
   "outputs": [],
   "source": [
    "name = list(name)"
   ]
  },
  {
   "cell_type": "code",
   "execution_count": 11,
   "id": "4b06963e",
   "metadata": {},
   "outputs": [
    {
     "data": {
      "text/plain": [
       "['n', 'a', 'r', 'e', 's', 'h']"
      ]
     },
     "execution_count": 11,
     "metadata": {},
     "output_type": "execute_result"
    }
   ],
   "source": [
    "name"
   ]
  },
  {
   "cell_type": "code",
   "execution_count": 12,
   "id": "06d681b0",
   "metadata": {},
   "outputs": [],
   "source": [
    "name1 =\"naresh\""
   ]
  },
  {
   "cell_type": "code",
   "execution_count": 13,
   "id": "1cdeb457",
   "metadata": {},
   "outputs": [
    {
     "data": {
      "text/plain": [
       "True"
      ]
     },
     "execution_count": 13,
     "metadata": {},
     "output_type": "execute_result"
    }
   ],
   "source": [
    "name1.isalnum()"
   ]
  },
  {
   "cell_type": "code",
   "execution_count": null,
   "id": "14f0fc3a",
   "metadata": {},
   "outputs": [],
   "source": []
  },
  {
   "cell_type": "code",
   "execution_count": null,
   "id": "3a28a555",
   "metadata": {},
   "outputs": [],
   "source": []
  },
  {
   "cell_type": "code",
   "execution_count": 21,
   "id": "52a763aa",
   "metadata": {},
   "outputs": [],
   "source": [
    "d = {\"key1\":[\"a\",\"b\",\"c\"]}"
   ]
  },
  {
   "cell_type": "code",
   "execution_count": 22,
   "id": "d6a1421a",
   "metadata": {},
   "outputs": [
    {
     "data": {
      "text/plain": [
       "'c'"
      ]
     },
     "execution_count": 22,
     "metadata": {},
     "output_type": "execute_result"
    }
   ],
   "source": [
    "d[\"key1\"][2]"
   ]
  },
  {
   "cell_type": "code",
   "execution_count": 23,
   "id": "a7ed1b73",
   "metadata": {},
   "outputs": [
    {
     "data": {
      "text/plain": [
       "'C'"
      ]
     },
     "execution_count": 23,
     "metadata": {},
     "output_type": "execute_result"
    }
   ],
   "source": [
    "d[\"key1\"][2].upper()"
   ]
  },
  {
   "cell_type": "code",
   "execution_count": 28,
   "id": "2c59aa59",
   "metadata": {},
   "outputs": [
    {
     "data": {
      "text/plain": [
       "dict_values"
      ]
     },
     "execution_count": 28,
     "metadata": {},
     "output_type": "execute_result"
    }
   ],
   "source": [
    "type(d.values())"
   ]
  },
  {
   "cell_type": "code",
   "execution_count": 29,
   "id": "41fd9b0a",
   "metadata": {},
   "outputs": [
    {
     "data": {
      "text/plain": [
       "dict_values([['a', 'b', 'c']])"
      ]
     },
     "execution_count": 29,
     "metadata": {},
     "output_type": "execute_result"
    }
   ],
   "source": [
    "d.values()"
   ]
  },
  {
   "cell_type": "code",
   "execution_count": 1,
   "id": "6335650d",
   "metadata": {},
   "outputs": [],
   "source": [
    "myset = set()"
   ]
  },
  {
   "cell_type": "code",
   "execution_count": 2,
   "id": "50ef92ab",
   "metadata": {},
   "outputs": [],
   "source": [
    "myset.add(1)"
   ]
  },
  {
   "cell_type": "code",
   "execution_count": 3,
   "id": "66708515",
   "metadata": {},
   "outputs": [
    {
     "data": {
      "text/plain": [
       "{1}"
      ]
     },
     "execution_count": 3,
     "metadata": {},
     "output_type": "execute_result"
    }
   ],
   "source": [
    "myset"
   ]
  },
  {
   "cell_type": "code",
   "execution_count": 7,
   "id": "b0ab34ab",
   "metadata": {},
   "outputs": [
    {
     "data": {
      "text/plain": [
       "{0, 1, 2, 3, 4, 5, 6, 9, 39}"
      ]
     },
     "execution_count": 7,
     "metadata": {},
     "output_type": "execute_result"
    }
   ],
   "source": [
    "mylist = [39,4,9,0,2,3,6,5,4,1]\n",
    "set(mylist)"
   ]
  },
  {
   "cell_type": "code",
   "execution_count": 8,
   "id": "55c8d28d",
   "metadata": {},
   "outputs": [],
   "source": [
    "myset1 = set()"
   ]
  },
  {
   "cell_type": "code",
   "execution_count": 9,
   "id": "e90d3bb7",
   "metadata": {},
   "outputs": [],
   "source": [
    "b=None"
   ]
  },
  {
   "cell_type": "code",
   "execution_count": 10,
   "id": "dd0cfcd8",
   "metadata": {},
   "outputs": [
    {
     "data": {
      "text/plain": [
       "NoneType"
      ]
     },
     "execution_count": 10,
     "metadata": {},
     "output_type": "execute_result"
    }
   ],
   "source": [
    "type(b)"
   ]
  },
  {
   "cell_type": "code",
   "execution_count": null,
   "id": "ab267729",
   "metadata": {},
   "outputs": [],
   "source": []
  }
 ],
 "metadata": {
  "kernelspec": {
   "display_name": "Python 3 (ipykernel)",
   "language": "python",
   "name": "python3"
  },
  "language_info": {
   "codemirror_mode": {
    "name": "ipython",
    "version": 3
   },
   "file_extension": ".py",
   "mimetype": "text/x-python",
   "name": "python",
   "nbconvert_exporter": "python",
   "pygments_lexer": "ipython3",
   "version": "3.11.4"
  }
 },
 "nbformat": 4,
 "nbformat_minor": 5
}
