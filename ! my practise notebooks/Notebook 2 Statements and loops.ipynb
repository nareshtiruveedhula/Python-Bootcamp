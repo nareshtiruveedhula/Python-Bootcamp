{
 "cells": [
  {
   "cell_type": "markdown",
   "id": "011a8479",
   "metadata": {},
   "source": [
    "# Break Continue and Pass statements"
   ]
  },
  {
   "cell_type": "markdown",
   "id": "1c74cc2d",
   "metadata": {},
   "source": [
    "Break    : Break out of the current loop\n",
    "Continue : goes to the current loop (dosent execute the lines below)\n",
    "Pass     : Placeholder"
   ]
  },
  {
   "cell_type": "code",
   "execution_count": 3,
   "id": "e093b065",
   "metadata": {},
   "outputs": [],
   "source": [
    "# pass statement (place holder. Does nothing)\n",
    "for i in [1,2,3,4]:\n",
    "    pass"
   ]
  },
  {
   "cell_type": "code",
   "execution_count": 5,
   "id": "52fec86c",
   "metadata": {},
   "outputs": [
    {
     "name": "stdout",
     "output_type": "stream",
     "text": [
      "n\n",
      "a\n"
     ]
    }
   ],
   "source": [
    "# Break statement \n",
    "for letter in \"naresh\":\n",
    "    if letter == \"r\":\n",
    "        break\n",
    "    else:\n",
    "        print(letter)"
   ]
  },
  {
   "cell_type": "code",
   "execution_count": 264,
   "id": "fd343be6",
   "metadata": {},
   "outputs": [
    {
     "name": "stdout",
     "output_type": "stream",
     "text": [
      "n\n",
      "r\n",
      "e\n",
      "s\n",
      "h\n"
     ]
    }
   ],
   "source": [
    "# Continue statement\n",
    "for letter in \"naresh\":\n",
    "    if letter ==\"a\":\n",
    "        continue\n",
    "    print(letter)"
   ]
  },
  {
   "cell_type": "markdown",
   "id": "2f0d7e90",
   "metadata": {},
   "source": [
    "### While Loop"
   ]
  },
  {
   "cell_type": "code",
   "execution_count": 2,
   "id": "b5f69507",
   "metadata": {},
   "outputs": [
    {
     "name": "stdout",
     "output_type": "stream",
     "text": [
      "0\n",
      "1\n",
      "2\n",
      "3\n",
      "4\n",
      "5\n"
     ]
    }
   ],
   "source": [
    "x=0\n",
    "while x<6:\n",
    "    print(x)\n",
    "    x+=1\n",
    "    "
   ]
  },
  {
   "cell_type": "code",
   "execution_count": 1,
   "id": "d73c2f34",
   "metadata": {},
   "outputs": [
    {
     "name": "stdout",
     "output_type": "stream",
     "text": [
      "At 0 the letter is a\n",
      "At 1 the letter is b\n",
      "At 2 the letter is c\n",
      "At 3 the letter is d\n",
      "At 4 the letter is e\n",
      "At 5 the letter is f\n",
      "At 6 the letter is g\n",
      "At 7 the letter is h\n",
      "At 8 the letter is i\n"
     ]
    }
   ],
   "source": [
    "index = 0\n",
    "for letter in \"abcdefghi\":\n",
    "    print(f\"At {index} the letter is {letter}\")\n",
    "    index+=1"
   ]
  },
  {
   "cell_type": "markdown",
   "id": "6c046444",
   "metadata": {},
   "source": [
    "## Enumerate Funtion\n",
    "\n",
    "The enumerate () function adds a **counter** to an iterable and returns it in the form of an **enumerating object**. This enumerated object can then be used directly for loops or converted into a list of **tuples** using the **list() function.**"
   ]
  },
  {
   "cell_type": "code",
   "execution_count": 251,
   "id": "36cfda6d",
   "metadata": {},
   "outputs": [
    {
     "name": "stdout",
     "output_type": "stream",
     "text": [
      "n 0\n",
      "a 1\n",
      "r 2\n",
      "e 3\n",
      "s 4\n",
      "h 5\n"
     ]
    }
   ],
   "source": [
    "s = \"naresh\"\n",
    "for index , items in enumerate(s):\n",
    "    print(items , index)\n",
    "    "
   ]
  },
  {
   "cell_type": "markdown",
   "id": "659f7314",
   "metadata": {},
   "source": [
    "# zip function\n",
    "The zip() function returns a zip object, which is an iterator of tuples where the first item in each passed iterator is paired together, and then the second item in each passed iterator are paired together etc.\n",
    "\n",
    "If the passed iterables have **different lengths**, the iterable with the **least items** decides the **length of the new iterator.**"
   ]
  },
  {
   "cell_type": "code",
   "execution_count": 263,
   "id": "96ff8add",
   "metadata": {},
   "outputs": [
    {
     "name": "stdout",
     "output_type": "stream",
     "text": [
      "[(1, 'green', 'crabby'), (2, 'yellow', 'sammy'), (3, 'sad', 'pikachu'), (4, 'group', 'dolphin')]\n",
      "(1, 'green', 'crabby')\n",
      "(2, 'yellow', 'sammy')\n",
      "(3, 'sad', 'pikachu')\n",
      "(4, 'group', 'dolphin')\n"
     ]
    }
   ],
   "source": [
    "a = [1,2,3,4,5,6,7]\n",
    "b = [\"green\",\"yellow\",\"sad\",\"group\"]\n",
    "c = [\"crabby\",\"sammy\",\"pikachu\",\"dolphin\",\"sabertooth\"]\n",
    "print(list(zip(a,b,c)))\n",
    "for items in zip(a,b,c):\n",
    "    print(items)"
   ]
  },
  {
   "cell_type": "markdown",
   "id": "6cb10319",
   "metadata": {},
   "source": [
    " ### IN keyword\n",
    " "
   ]
  },
  {
   "cell_type": "code",
   "execution_count": 266,
   "id": "47d38a66",
   "metadata": {},
   "outputs": [
    {
     "data": {
      "text/plain": [
       "True"
      ]
     },
     "execution_count": 266,
     "metadata": {},
     "output_type": "execute_result"
    }
   ],
   "source": [
    "\"a\" in \"naresh\""
   ]
  },
  {
   "cell_type": "code",
   "execution_count": 275,
   "id": "70873fb9",
   "metadata": {},
   "outputs": [],
   "source": [
    "d = {\"hunta\": \"summoner\", \"domino\":\"siege\", \"sudo\":31}"
   ]
  },
  {
   "cell_type": "code",
   "execution_count": 276,
   "id": "1adbd703",
   "metadata": {},
   "outputs": [
    {
     "data": {
      "text/plain": [
       "True"
      ]
     },
     "execution_count": 276,
     "metadata": {},
     "output_type": "execute_result"
    }
   ],
   "source": [
    "\"domino\" in d"
   ]
  },
  {
   "cell_type": "code",
   "execution_count": 277,
   "id": "081e6b1f",
   "metadata": {},
   "outputs": [
    {
     "data": {
      "text/plain": [
       "False"
      ]
     },
     "execution_count": 277,
     "metadata": {},
     "output_type": "execute_result"
    }
   ],
   "source": [
    "31 in d"
   ]
  },
  {
   "cell_type": "code",
   "execution_count": 280,
   "id": "83112924",
   "metadata": {},
   "outputs": [
    {
     "data": {
      "text/plain": [
       "True"
      ]
     },
     "execution_count": 280,
     "metadata": {},
     "output_type": "execute_result"
    }
   ],
   "source": [
    "31 in d.values()"
   ]
  },
  {
   "cell_type": "markdown",
   "id": "4cf7555f",
   "metadata": {},
   "source": [
    "MIN MAX functions"
   ]
  },
  {
   "cell_type": "code",
   "execution_count": 5,
   "id": "51366964",
   "metadata": {},
   "outputs": [],
   "source": [
    "mlist = [0,5,0,3,6,9,8,7,4,-1]"
   ]
  },
  {
   "cell_type": "code",
   "execution_count": 1,
   "id": "8c8f7c38",
   "metadata": {},
   "outputs": [
    {
     "data": {
      "text/plain": [
       "-1"
      ]
     },
     "execution_count": 1,
     "metadata": {},
     "output_type": "execute_result"
    }
   ],
   "source": [
    "min([0,5,0,3,6,9,8,7,4,-1])"
   ]
  },
  {
   "cell_type": "code",
   "execution_count": 3,
   "id": "d298412b",
   "metadata": {},
   "outputs": [
    {
     "data": {
      "text/plain": [
       "9"
      ]
     },
     "execution_count": 3,
     "metadata": {},
     "output_type": "execute_result"
    }
   ],
   "source": [
    "max([0,5,0,3,6,9,8,7,4,-1])"
   ]
  },
  {
   "cell_type": "markdown",
   "id": "70716d72",
   "metadata": {},
   "source": [
    "# Random library"
   ]
  },
  {
   "cell_type": "code",
   "execution_count": 6,
   "id": "670d96d9",
   "metadata": {},
   "outputs": [],
   "source": [
    "from random import shuffle\n",
    "shuffle(mlist)"
   ]
  },
  {
   "cell_type": "code",
   "execution_count": 7,
   "id": "d59df3b2",
   "metadata": {},
   "outputs": [
    {
     "data": {
      "text/plain": [
       "[7, 4, 8, 3, 6, 9, 0, 5, -1, 0]"
      ]
     },
     "execution_count": 7,
     "metadata": {},
     "output_type": "execute_result"
    }
   ],
   "source": [
    "mlist"
   ]
  },
  {
   "cell_type": "code",
   "execution_count": 8,
   "id": "a017ccac",
   "metadata": {},
   "outputs": [
    {
     "data": {
      "text/plain": [
       "9"
      ]
     },
     "execution_count": 8,
     "metadata": {},
     "output_type": "execute_result"
    }
   ],
   "source": [
    "from random import randint\n",
    "randint(0,101)"
   ]
  },
  {
   "cell_type": "markdown",
   "id": "2b5e8bb6",
   "metadata": {},
   "source": [
    "## Input function"
   ]
  },
  {
   "cell_type": "code",
   "execution_count": 9,
   "id": "3c8fb8ae",
   "metadata": {},
   "outputs": [
    {
     "name": "stdout",
     "output_type": "stream",
     "text": [
      "Enter a number: 55\n"
     ]
    }
   ],
   "source": [
    "result  = input(\"Enter a number: \")"
   ]
  },
  {
   "cell_type": "code",
   "execution_count": 10,
   "id": "9fc754b6",
   "metadata": {},
   "outputs": [
    {
     "data": {
      "text/plain": [
       "'55'"
      ]
     },
     "execution_count": 10,
     "metadata": {},
     "output_type": "execute_result"
    }
   ],
   "source": [
    "result"
   ]
  },
  {
   "cell_type": "code",
   "execution_count": 11,
   "id": "1a7373db",
   "metadata": {},
   "outputs": [
    {
     "name": "stdout",
     "output_type": "stream",
     "text": [
      "Enter a number:55\n"
     ]
    }
   ],
   "source": [
    "result_1 = int(input(\"Enter a number:\"))"
   ]
  },
  {
   "cell_type": "code",
   "execution_count": 12,
   "id": "00febd89",
   "metadata": {},
   "outputs": [
    {
     "data": {
      "text/plain": [
       "55"
      ]
     },
     "execution_count": 12,
     "metadata": {},
     "output_type": "execute_result"
    }
   ],
   "source": [
    "result_1\n"
   ]
  },
  {
   "cell_type": "markdown",
   "id": "89b410cb",
   "metadata": {},
   "source": [
    "# List Comprehension\n",
    "List Comprehensions are a unique way of creating a list in python instead of using for loop with .append() method"
   ]
  },
  {
   "cell_type": "code",
   "execution_count": 17,
   "id": "727d2d8c",
   "metadata": {},
   "outputs": [],
   "source": [
    "my_list = []\n",
    "string = \"hello\""
   ]
  },
  {
   "cell_type": "code",
   "execution_count": 15,
   "id": "bcc973e7",
   "metadata": {},
   "outputs": [
    {
     "data": {
      "text/plain": [
       "['h', 'e', 'l', 'l', 'o']"
      ]
     },
     "execution_count": 15,
     "metadata": {},
     "output_type": "execute_result"
    }
   ],
   "source": [
    "for letter in string:\n",
    "    my_list.append(letter)\n",
    "my_list"
   ]
  },
  {
   "cell_type": "code",
   "execution_count": 16,
   "id": "3d6cb60b",
   "metadata": {},
   "outputs": [],
   "source": [
    "#USING LIST COMPREHENSION"
   ]
  },
  {
   "cell_type": "code",
   "execution_count": 21,
   "id": "7559aef3",
   "metadata": {},
   "outputs": [
    {
     "data": {
      "text/plain": [
       "['h', 'e', 'l', 'l', 'o']"
      ]
     },
     "execution_count": 21,
     "metadata": {},
     "output_type": "execute_result"
    }
   ],
   "source": [
    "my_list = [letter for letter in string]\n",
    "my_list"
   ]
  },
  {
   "cell_type": "code",
   "execution_count": 22,
   "id": "3c5e856d",
   "metadata": {},
   "outputs": [],
   "source": [
    "list_2 = [x for x in range(0,12)]"
   ]
  },
  {
   "cell_type": "code",
   "execution_count": 23,
   "id": "3653526c",
   "metadata": {},
   "outputs": [
    {
     "data": {
      "text/plain": [
       "[0, 1, 2, 3, 4, 5, 6, 7, 8, 9, 10, 11]"
      ]
     },
     "execution_count": 23,
     "metadata": {},
     "output_type": "execute_result"
    }
   ],
   "source": [
    "list_2"
   ]
  },
  {
   "cell_type": "code",
   "execution_count": 24,
   "id": "da28b59a",
   "metadata": {},
   "outputs": [],
   "source": [
    "list_square = [num**2 for num in range(0,11)]"
   ]
  },
  {
   "cell_type": "code",
   "execution_count": 25,
   "id": "9e4c289e",
   "metadata": {},
   "outputs": [
    {
     "data": {
      "text/plain": [
       "[0, 1, 4, 9, 16, 25, 36, 49, 64, 81, 100]"
      ]
     },
     "execution_count": 25,
     "metadata": {},
     "output_type": "execute_result"
    }
   ],
   "source": [
    "list_square"
   ]
  },
  {
   "cell_type": "code",
   "execution_count": 26,
   "id": "787f64c4",
   "metadata": {},
   "outputs": [
    {
     "data": {
      "text/plain": [
       "[0, 2, 4, 6, 8, 10]"
      ]
     },
     "execution_count": 26,
     "metadata": {},
     "output_type": "execute_result"
    }
   ],
   "source": [
    "list_even = [x for x in range(0,11) if x%2==0]\n",
    "list_even\n"
   ]
  },
  {
   "cell_type": "code",
   "execution_count": 41,
   "id": "070d4d0b",
   "metadata": {},
   "outputs": [],
   "source": [
    "celcius = [0,36.8,38,40,101,520]"
   ]
  },
  {
   "cell_type": "code",
   "execution_count": 42,
   "id": "c6a90d6d",
   "metadata": {},
   "outputs": [
    {
     "data": {
      "text/plain": [
       "[32.0, 98.24, 100.4, 104.0, 213.8, 968.0]"
      ]
     },
     "execution_count": 42,
     "metadata": {},
     "output_type": "execute_result"
    }
   ],
   "source": [
    "fahrenheit = [((9/5) * x + 32 ) for x in celcius]\n",
    "\n",
    "fahrenheit"
   ]
  },
  {
   "cell_type": "code",
   "execution_count": 43,
   "id": "316f1795",
   "metadata": {},
   "outputs": [
    {
     "data": {
      "text/plain": [
       "[32.0, 98.24, 100.4, 104.0, 213.8, 968.0]"
      ]
     },
     "execution_count": 43,
     "metadata": {},
     "output_type": "execute_result"
    }
   ],
   "source": [
    "fahrenheit = []\n",
    "\n",
    "for x in celcius:\n",
    "    fahrenheit.append((9/5) * x + 32)\n",
    "\n",
    "fahrenheit"
   ]
  },
  {
   "cell_type": "code",
   "execution_count": 44,
   "id": "6ca3bfc8",
   "metadata": {},
   "outputs": [
    {
     "data": {
      "text/plain": [
       "[0, 'ODD', 2, 'ODD', 4, 'ODD', 6, 'ODD', 8, 'ODD', 10]"
      ]
     },
     "execution_count": 44,
     "metadata": {},
     "output_type": "execute_result"
    }
   ],
   "source": [
    "list1 = [x if x%2 == 0 else \"ODD\" for x in range(0,11)]\n",
    "list1"
   ]
  },
  {
   "cell_type": "code",
   "execution_count": 46,
   "id": "b51bb2a6",
   "metadata": {},
   "outputs": [
    {
     "data": {
      "text/plain": [
       "[1, 10, 100, 2, 20, 200, 3, 30, 300]"
      ]
     },
     "execution_count": 46,
     "metadata": {},
     "output_type": "execute_result"
    }
   ],
   "source": [
    "my_list = []\n",
    "\n",
    "for x in [1,2,3]:\n",
    "    for y in [1,10,100]:\n",
    "        my_list.append(x*y)\n",
    " \n",
    "my_list\n"
   ]
  },
  {
   "cell_type": "code",
   "execution_count": 47,
   "id": "ed6e020c",
   "metadata": {},
   "outputs": [
    {
     "data": {
      "text/plain": [
       "[1, 10, 100, 2, 20, 200, 3, 30, 300]"
      ]
     },
     "execution_count": 47,
     "metadata": {},
     "output_type": "execute_result"
    }
   ],
   "source": [
    "my_list = [x*y for x in [1,2,3] for y in [1,10,100]]\n",
    "my_list"
   ]
  },
  {
   "cell_type": "code",
   "execution_count": null,
   "id": "bac2e370",
   "metadata": {},
   "outputs": [],
   "source": []
  }
 ],
 "metadata": {
  "kernelspec": {
   "display_name": "Python 3 (ipykernel)",
   "language": "python",
   "name": "python3"
  },
  "language_info": {
   "codemirror_mode": {
    "name": "ipython",
    "version": 3
   },
   "file_extension": ".py",
   "mimetype": "text/x-python",
   "name": "python",
   "nbconvert_exporter": "python",
   "pygments_lexer": "ipython3",
   "version": "3.11.4"
  }
 },
 "nbformat": 4,
 "nbformat_minor": 5
}
