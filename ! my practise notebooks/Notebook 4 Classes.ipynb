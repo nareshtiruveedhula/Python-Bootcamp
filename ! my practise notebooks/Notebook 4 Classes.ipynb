{
 "cells": [
  {
   "cell_type": "markdown",
   "id": "22ff18d3",
   "metadata": {},
   "source": [
    "# Classes in Python\n"
   ]
  },
  {
   "cell_type": "markdown",
   "id": "6a2e7153",
   "metadata": {},
   "source": [
    "### Classes are blueprint for creating objects"
   ]
  },
  {
   "cell_type": "code",
   "execution_count": 3,
   "id": "50282cf7",
   "metadata": {},
   "outputs": [],
   "source": [
    "# example of a class\n",
    "\n",
    "#Classes in python example:-\n",
    "\n",
    "\n",
    "\n",
    "class NameOfClass:\n",
    "\n",
    "    def __init__(self,param1,param2):\n",
    "\n",
    "        self.param1 = param1\n",
    "\n",
    "        self.param2 = param2\n",
    "\n",
    "    def some_method(self):\n",
    "\n",
    "        #performs some action\n",
    "\n",
    "        print(self.param1)"
   ]
  },
  {
   "cell_type": "markdown",
   "id": "70f2d84a",
   "metadata": {},
   "source": [
    "Self represents the instance of the class ."
   ]
  },
  {
   "cell_type": "code",
   "execution_count": null,
   "id": "a49f03f4",
   "metadata": {},
   "outputs": [],
   "source": []
  },
  {
   "cell_type": "code",
   "execution_count": 5,
   "id": "24075ae0",
   "metadata": {},
   "outputs": [],
   "source": [
    "class mysample():\n",
    "    pass"
   ]
  },
  {
   "cell_type": "code",
   "execution_count": 7,
   "id": "41c9af95",
   "metadata": {},
   "outputs": [
    {
     "data": {
      "text/plain": [
       "__main__.mysample"
      ]
     },
     "execution_count": 7,
     "metadata": {},
     "output_type": "execute_result"
    }
   ],
   "source": [
    "sample = mysample()\n",
    "type(sample)"
   ]
  },
  {
   "cell_type": "code",
   "execution_count": null,
   "id": "cef33361",
   "metadata": {},
   "outputs": [],
   "source": []
  },
  {
   "cell_type": "code",
   "execution_count": 8,
   "id": "fed24700",
   "metadata": {},
   "outputs": [
    {
     "name": "stdout",
     "output_type": "stream",
     "text": [
      "<class 'str'>\n",
      "<class 'int'>\n",
      "<class 'float'>\n",
      "<class 'list'>\n",
      "<class 'set'>\n",
      "<class 'dict'>\n",
      "<class 'tuple'>\n",
      "1 2 5 6 3 6 9 8 7 2\n"
     ]
    },
    {
     "ename": "TypeError",
     "evalue": "'builtin_function_or_method' object is not iterable",
     "output_type": "error",
     "traceback": [
      "\u001b[1;31m---------------------------------------------------------------------------\u001b[0m",
      "\u001b[1;31mTypeError\u001b[0m                                 Traceback (most recent call last)",
      "Cell \u001b[1;32mIn[8], line 8\u001b[0m\n\u001b[0;32m      6\u001b[0m \u001b[38;5;28mprint\u001b[39m(\u001b[38;5;28mtype\u001b[39m({\u001b[38;5;241m1\u001b[39m:\u001b[38;5;241m2\u001b[39m}))\n\u001b[0;32m      7\u001b[0m \u001b[38;5;28mprint\u001b[39m(\u001b[38;5;28mtype\u001b[39m((\u001b[38;5;241m1\u001b[39m,\u001b[38;5;241m2.5\u001b[39m)))\n\u001b[1;32m----> 8\u001b[0m \u001b[38;5;28mprint\u001b[39m(\u001b[38;5;28mtype\u001b[39m(\u001b[38;5;28mmap\u001b[39m(\u001b[38;5;28mint\u001b[39m,\u001b[38;5;28minput\u001b[39m()\u001b[38;5;241m.\u001b[39msplit)))\n",
      "\u001b[1;31mTypeError\u001b[0m: 'builtin_function_or_method' object is not iterable"
     ]
    }
   ],
   "source": [
    "print(type(\"str\"))\n",
    "print(type(100))\n",
    "print(type(1.012))\n",
    "print(type([123]))\n",
    "print(type({125}))\n",
    "print(type({1:2}))\n",
    "print(type((1,2.5)))\n",
    "print(type(map(int,input().split)))\n",
    "\n"
   ]
  },
  {
   "cell_type": "code",
   "execution_count": 18,
   "id": "5d41fb11",
   "metadata": {},
   "outputs": [],
   "source": [
    "z = [x for x in range(25)]"
   ]
  },
  {
   "cell_type": "code",
   "execution_count": null,
   "id": "1da50dd8",
   "metadata": {
    "scrolled": true
   },
   "outputs": [],
   "source": [
    "z\n"
   ]
  },
  {
   "cell_type": "code",
   "execution_count": 20,
   "id": "c3d74e17",
   "metadata": {},
   "outputs": [
    {
     "name": "stdout",
     "output_type": "stream",
     "text": [
      "0\n",
      "1\n",
      "2\n",
      "3\n",
      "4\n",
      "5\n",
      "6\n",
      "7\n",
      "8\n",
      "9\n",
      "10\n",
      "11\n",
      "12\n",
      "13\n",
      "14\n",
      "15\n",
      "16\n",
      "17\n",
      "18\n",
      "19\n",
      "20\n",
      "21\n",
      "22\n",
      "23\n",
      "24\n"
     ]
    }
   ],
   "source": [
    "for _ in z:\n",
    "    print(_)"
   ]
  },
  {
   "cell_type": "code",
   "execution_count": null,
   "id": "db7f29e5",
   "metadata": {},
   "outputs": [],
   "source": []
  }
 ],
 "metadata": {
  "kernelspec": {
   "display_name": "Python 3 (ipykernel)",
   "language": "python",
   "name": "python3"
  },
  "language_info": {
   "codemirror_mode": {
    "name": "ipython",
    "version": 3
   },
   "file_extension": ".py",
   "mimetype": "text/x-python",
   "name": "python",
   "nbconvert_exporter": "python",
   "pygments_lexer": "ipython3",
   "version": "3.11.4"
  }
 },
 "nbformat": 4,
 "nbformat_minor": 5
}
